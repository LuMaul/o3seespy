{
 "cells": [
  {
   "cell_type": "markdown",
   "source": [
    "# Conduct a force controlled analysis of a uniaxial material\n",
    "\n",
    "Author: Maxim Millen\n",
    " \n",
    "Note: The force controlled uniaxial driver has been implemented as a function in the Object-oriented OpenSEES library, \n",
    "o3seespy (`o3seespy.tools.run_uniaxial_force_driver()`) and displacement \n",
    "controlled (`o3seespy.tools.run_uniaxial_disp_driver()`)\n"
   ],
   "metadata": {
    "collapsed": false
   }
  },
  {
   "cell_type": "markdown",
   "source": [
    "### Load inline plotting and auto-reload commands"
   ],
   "metadata": {
    "collapsed": false
   }
  },
  {
   "cell_type": "code",
   "execution_count": 1,
   "outputs": [],
   "source": [
    "%load_ext autoreload\n",
    "%autoreload 2\n",
    "%matplotlib inline"
   ],
   "metadata": {
    "collapsed": false,
    "pycharm": {
     "name": "#%%\n",
     "is_executing": false
    }
   }
  },
  {
   "cell_type": "markdown",
   "source": [
    "## Load the libraries needed for the analysis"
   ],
   "metadata": {
    "collapsed": false
   }
  },
  {
   "cell_type": "code",
   "execution_count": 6,
   "outputs": [
    {
     "name": "stdout",
     "text": [
      "o3seespy version:  3.1.0.18\n"
     ],
     "output_type": "stream"
    }
   ],
   "source": [
    "import matplotlib.pyplot as plt\n",
    "import engformat as ef\n",
    "import numpy as np\n",
    "import o3seespy as o3\n",
    "import o3seespy.__about__\n",
    "print('o3seespy version: ', o3seespy.__about__.__version__)"
   ],
   "metadata": {
    "collapsed": false,
    "pycharm": {
     "name": "#%%\n",
     "is_executing": false
    }
   }
  },
  {
   "cell_type": "markdown",
   "source": [
    "## Define properties for SteelMPF material and forces"
   ],
   "metadata": {
    "collapsed": false
   }
  },
  {
   "cell_type": "code",
   "execution_count": 3,
   "outputs": [],
   "source": [
    "fy = 1450  # N\n",
    "k = 5e4  # N/m\n",
    "el_y = fy / k\n",
    "b = 0.001\n",
    "\n",
    "forces = np.array([1200, -10, 1400, 300, 800])  # N\n"
   ],
   "metadata": {
    "collapsed": false,
    "pycharm": {
     "name": "#%%\n",
     "is_executing": false
    }
   }
  },
  {
   "cell_type": "markdown",
   "source": [
    "## Run a uniaxial driver"
   ],
   "metadata": {
    "collapsed": false,
    "pycharm": {
     "name": "#%% md\n"
    }
   }
  },
  {
   "cell_type": "code",
   "execution_count": 4,
   "outputs": [],
   "source": [
    "# control parameters\n",
    "d_step = 0.0001\n",
    "max_steps=10000\n",
    "handle='silent'\n",
    "\n",
    "osi = o3.OpenSeesInstance(ndm=1)\n",
    "\n",
    "left_node = o3.node.Node(osi, 0, 0)\n",
    "right_node = o3.node.Node(osi, 0, 0)\n",
    "o3.Fix1DOF(osi, left_node, o3.cc.FIXED)\n",
    "o3.Fix1DOF(osi, right_node, o3.cc.FREE)\n",
    "\n",
    "mat_obj = o3.uniaxial_material.SteelMPF(osi, fy, fy, k, b, b, \n",
    "                                        r0=10, c_r1=0.99, c_r2=0.15)\n",
    "ele = o3.element.ZeroLength(osi, [left_node, right_node], mats=[mat_obj], dirs=[o3.cc.DOF2D_X], r_flag=1)\n",
    "\n",
    "o3.constraints.Plain(osi)\n",
    "o3.numberer.RCM(osi)\n",
    "o3.system.BandGeneral(osi)\n",
    "o3.test_check.NormDispIncr(osi, 0.002, 10, p_flag=0)\n",
    "o3.algorithm.Newton(osi)\n",
    "o3.integrator.DisplacementControl(osi, right_node, o3.cc.X, 0.0001)\n",
    "o3.analysis.Static(osi)\n",
    "ts_po = o3.time_series.Linear(osi, factor=1)\n",
    "o3.pattern.Plain(osi, ts_po)\n",
    "o3.Load(osi, right_node, [1.0])\n",
    "\n",
    "react = 0\n",
    "disp = [0]\n",
    "reacts = [react]\n",
    "\n",
    "diffs = np.diff(forces, prepend=0)\n",
    "orys = np.where(diffs >= 0, 1, -1)\n",
    "for i in range(len(forces)):\n",
    "    ory = orys[i]\n",
    "    o3.integrator.DisplacementControl(osi, right_node, o3.cc.X, -d_step * ory)\n",
    "    for j in range(max_steps):\n",
    "        if react * ory < forces[i] * ory:\n",
    "            o3.analyze(osi, 1)\n",
    "        else:\n",
    "            break\n",
    "        o3.gen_reactions(osi)\n",
    "        react = o3.get_ele_response(osi, ele, 'force')[0]\n",
    "        reacts.append(react)\n",
    "        end_disp = -o3.get_node_disp(osi, right_node, dof=o3.cc.X)\n",
    "        disp.append(end_disp)\n",
    "    if j == max_steps - 1:\n",
    "        if handle == 'silent':\n",
    "            break\n",
    "        if handle == 'warn':\n",
    "            print(f'Target not met: force={react:.4g}, target: {forces[i]:.4g}')\n",
    "        else:\n",
    "            raise ValueError()\n",
    "disp = np.array(disp)\n",
    "reacts = np.array(reacts)\n"
   ],
   "metadata": {
    "collapsed": false,
    "pycharm": {
     "name": "#%%\n",
     "is_executing": false
    }
   }
  },
  {
   "cell_type": "markdown",
   "source": [
    "## Plot results"
   ],
   "metadata": {
    "collapsed": false,
    "pycharm": {
     "name": "#%% md\n"
    }
   }
  },
  {
   "cell_type": "code",
   "execution_count": 5,
   "outputs": [
    {
     "data": {
      "text/plain": "<Figure size 432x288 with 1 Axes>",
      "image/png": "[encoded data removed]"
     },
     "metadata": {
      "needs_background": "light"
     },
     "output_type": "display_data"
    }
   ],
   "source": [
    "\n",
    "bf, sps = plt.subplots()\n",
    "sps.plot(disp, reacts, label=f'K={k/1e3}kN/m', c='b')\n",
    "sps.plot(disp[-1], reacts[-1], 'o', c='r', label='END')\n",
    "sps.legend()\n",
    "ef.xy(sps, y_axis=1, x_axis=1, x_grid=True, y_grid=True)\n",
    "sps.set_xlabel('Displacement [m]')\n",
    "sps.set_ylabel('Force [N]')\n",
    "plt.show()"
   ],
   "metadata": {
    "collapsed": false,
    "pycharm": {
     "name": "#%%\n",
     "is_executing": false
    }
   }
  },
  {
   "cell_type": "code",
   "execution_count": null,
   "outputs": [],
   "source": [
    "\n"
   ],
   "metadata": {
    "collapsed": false,
    "pycharm": {
     "name": "#%%\n"
    }
   }
  }
 ],
 "metadata": {
  "kernelspec": {
   "display_name": "Python 3",
   "language": "python",
   "name": "python3"
  },
  "language_info": {
   "codemirror_mode": {
    "name": "ipython",
    "version": 2
   },
   "file_extension": ".py",
   "mimetype": "text/x-python",
   "name": "python",
   "nbconvert_exporter": "python",
   "pygments_lexer": "ipython2",
   "version": "2.7.6"
  },
  "pycharm": {
   "stem_cell": {
    "cell_type": "raw",
    "source": [],
    "metadata": {
     "collapsed": false
    }
   }
  }
 },
 "nbformat": 4,
 "nbformat_minor": 0
}