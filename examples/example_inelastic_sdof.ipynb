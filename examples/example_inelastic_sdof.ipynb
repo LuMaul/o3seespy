{
 "cells": [
  {
   "cell_type": "markdown",
   "source": [
    "# Conduct a time history analysis of an inelastic SDOF\n",
    "\n",
    "This example runs a time history analysis of an elastic and inelastic single degree-of-freedom (SDOF) system using\n",
    "the o3seespy package making use of a zero length element and the ``o3.uniaxial_material.Steel01`` material.\n",
    "\n",
    "The elastic solution is compared to a closed form solution from the ``eqsig`` python package.\n",
    "\n",
    "Author: Maxim Millen\n"
   ],
   "metadata": {
    "collapsed": false
   }
  },
  {
   "cell_type": "markdown",
   "source": [
    "### Load inline plotting and auto-reload commands"
   ],
   "metadata": {
    "collapsed": false
   }
  },
  {
   "cell_type": "code",
   "execution_count": 10,
   "outputs": [
    {
     "name": "stdout",
     "text": [
      "The autoreload extension is already loaded. To reload it, use:\n",
      "  %reload_ext autoreload\n"
     ],
     "output_type": "stream"
    }
   ],
   "source": [
    "%load_ext autoreload\n",
    "%autoreload 2\n",
    "%matplotlib inline"
   ],
   "metadata": {
    "collapsed": false,
    "pycharm": {
     "name": "#%%\n",
     "is_executing": false
    }
   }
  },
  {
   "cell_type": "markdown",
   "source": [
    "## Load the libraries needed for the analysis"
   ],
   "metadata": {
    "collapsed": false
   }
  },
  {
   "cell_type": "code",
   "execution_count": 28,
   "outputs": [
    {
     "name": "stdout",
     "text": [
      "o3seespy version:  3.1.0.17\n"
     ],
     "output_type": "stream"
    }
   ],
   "source": [
    "import matplotlib.pyplot as plt\n",
    "import numpy as np\n",
    "from eqsig import sdof  # Used to validate elastic response\n",
    "import o3seespy as o3\n",
    "import o3seespy.__about__\n",
    "print('o3seespy version: ', o3seespy.__about__.__version__)\n"
   ],
   "metadata": {
    "collapsed": false,
    "pycharm": {
     "name": "#%%\n",
     "is_executing": false
    }
   }
  },
  {
   "cell_type": "markdown",
   "source": [
    "## Define a function for conducting inelastic SDOF analysis"
   ],
   "metadata": {
    "collapsed": false,
    "pycharm": {
     "name": "#%% md\n"
    }
   }
  },
  {
   "cell_type": "code",
   "execution_count": 20,
   "outputs": [],
   "source": [
    "def get_inelastic_response(mass, k, f_yield, motion, dt, xi=0.05, r_post=0.0):\n",
    "    \"\"\"\n",
    "    Run seismic analysis of a nonlinear SDOF\n",
    "\n",
    "    Parameters\n",
    "    ----------\n",
    "    mass: float\n",
    "        SDOF mass\n",
    "    k: float\n",
    "        Spring stiffness\n",
    "    f_yield: float\n",
    "        Yield strength\n",
    "    motion: array_like,\n",
    "        Acceleration values\n",
    "    dt: float, time step of acceleration values\n",
    "    xi: damping ratio\n",
    "    r_post: post-yield stiffness\n",
    "    \n",
    "    Returns\n",
    "    -------\n",
    "    outputs: dict\n",
    "        Dictionary containing time series from analysis\n",
    "    \"\"\"\n",
    "    osi = o3.OpenSeesInstance(ndm=2, state=0)\n",
    "\n",
    "    # Establish nodes\n",
    "    bot_node = o3.node.Node(osi, 0, 0)\n",
    "    top_node = o3.node.Node(osi, 0, 0)\n",
    "\n",
    "    # Fix bottom node\n",
    "    o3.Fix3DOF(osi, top_node, o3.cc.FREE, o3.cc.FIXED, o3.cc.FIXED)\n",
    "    o3.Fix3DOF(osi, bot_node, o3.cc.FIXED, o3.cc.FIXED, o3.cc.FIXED)\n",
    "    # Set out-of-plane DOFs to be slaved\n",
    "    o3.EqualDOF(osi, top_node, bot_node, [o3.cc.Y, o3.cc.ROTZ])\n",
    "\n",
    "    # nodal mass (weight / g):\n",
    "    o3.Mass(osi, top_node, mass, 0., 0.)\n",
    "\n",
    "    # Define material\n",
    "    bilinear_mat = o3.uniaxial_material.Steel01(osi, fy=f_yield, e0=k, b=r_post)\n",
    "\n",
    "    # Assign zero length element, # Note: pass actual node and material objects into element\n",
    "    o3.element.ZeroLength(osi, [bot_node, top_node], mats=[bilinear_mat], dirs=[o3.cc.DOF2D_X], r_flag=1)\n",
    "\n",
    "    # Define the dynamic analysis\n",
    "    # motion should be negative\n",
    "    acc_series = o3.time_series.Path(osi, dt=dt, values=-motion)\n",
    "    o3.pattern.UniformExcitation(osi, dir=o3.cc.X, accel_series=acc_series)\n",
    "\n",
    "    # set damping based on first eigen mode\n",
    "    angular_freq_sqrd = o3.get_eigen(osi, solver='fullGenLapack', n=1)\n",
    "    if hasattr(angular_freq_sqrd, '__len__'):\n",
    "        angular_freq = angular_freq_sqrd[0] ** 0.5\n",
    "    else:\n",
    "        angular_freq = angular_freq_sqrd ** 0.5\n",
    "    response_period = 2 * np.pi / angular_freq\n",
    "    beta_k = 2 * xi / angular_freq\n",
    "    o3.rayleigh.Rayleigh(osi, alpha_m=0.0, beta_k=beta_k, beta_k_init=0.0, beta_k_comm=0.0)\n",
    "\n",
    "    # Run the dynamic analysis\n",
    "\n",
    "    o3.wipe_analysis(osi)\n",
    "\n",
    "    o3.algorithm.Newton(osi)\n",
    "    o3.system.SparseGeneral(osi)\n",
    "    o3.numberer.RCM(osi)\n",
    "    o3.constraints.Transformation(osi)\n",
    "    o3.integrator.Newmark(osi, 0.5, 0.25)\n",
    "    o3.analysis.Transient(osi)\n",
    "\n",
    "    o3.test_check.EnergyIncr(osi, tol=1.0e-10, max_iter=10)\n",
    "    analysis_time = (len(motion) - 1) * dt\n",
    "    analysis_dt = 0.001\n",
    "    outputs = {\n",
    "        \"time\": [],\n",
    "        \"rel_disp\": [],\n",
    "        \"rel_accel\": [],\n",
    "        \"rel_vel\": [],\n",
    "        \"force\": []\n",
    "    }\n",
    "\n",
    "    while o3.get_time(osi) < analysis_time:\n",
    "\n",
    "        o3.analyze(osi, 1, analysis_dt)\n",
    "        curr_time = o3.get_time(osi)\n",
    "        outputs[\"time\"].append(curr_time)\n",
    "        outputs[\"rel_disp\"].append(o3.get_node_disp(osi, top_node, o3.cc.X))\n",
    "        outputs[\"rel_vel\"].append(o3.get_node_vel(osi, top_node, o3.cc.X))\n",
    "        outputs[\"rel_accel\"].append(o3.get_node_accel(osi, top_node, o3.cc.X))\n",
    "        o3.gen_reactions(osi)\n",
    "        # Negative since diff node\n",
    "        outputs[\"force\"].append(-o3.get_node_reaction(osi, bot_node, o3.cc.X))\n",
    "    o3.wipe(osi)\n",
    "    for item in outputs:\n",
    "        outputs[item] = np.array(outputs[item])\n",
    "\n",
    "    return outputs"
   ],
   "metadata": {
    "collapsed": false,
    "pycharm": {
     "name": "#%%\n",
     "is_executing": false
    }
   }
  },
  {
   "cell_type": "markdown",
   "source": [
    "## Define properties for ``o3.uniaxial_material.Steel01`` material"
   ],
   "metadata": {
    "collapsed": false
   }
  },
  {
   "cell_type": "code",
   "execution_count": 21,
   "outputs": [],
   "source": [
    "period = 1.0\n",
    "xi = 0.05\n",
    "sdof_mass = 1.0\n",
    "f_yield = 1.5  # Reduce this to make it more nonlinear\n",
    "r_post = 0.0\n",
    "k_s = 4 * np.pi ** 2 * sdof_mass / period ** 2\n"
   ],
   "metadata": {
    "collapsed": false,
    "pycharm": {
     "name": "#%%\n",
     "is_executing": false
    }
   }
  },
  {
   "cell_type": "markdown",
   "source": [
    "## Define input ground motion"
   ],
   "metadata": {
    "collapsed": false
   }
  },
  {
   "cell_type": "code",
   "execution_count": 22,
   "outputs": [],
   "source": [
    "record_filename = 'test_motion_dt0p01.txt'\n",
    "dt = 0.01\n",
    "rec = np.loadtxt(record_filename)"
   ],
   "metadata": {
    "collapsed": false,
    "pycharm": {
     "name": "#%%\n",
     "is_executing": false
    }
   }
  },
  {
   "cell_type": "markdown",
   "source": [
    "## Run elastic and inelastic analysis"
   ],
   "metadata": {
    "collapsed": false,
    "pycharm": {
     "name": "#%% md\n"
    }
   }
  },
  {
   "cell_type": "code",
   "execution_count": 23,
   "outputs": [],
   "source": [
    "outputs_in = get_inelastic_response(sdof_mass, k_s, f_yield, rec, dt, xi=xi, r_post=r_post)\n",
    "# Elastic analysis since yield force increased beyond demand level\n",
    "outputs_el = get_inelastic_response(sdof_mass, k_s, f_yield * 100, rec, dt, xi=xi, r_post=r_post)"
   ],
   "metadata": {
    "collapsed": false,
    "pycharm": {
     "name": "#%%\n",
     "is_executing": false
    }
   }
  },
  {
   "cell_type": "markdown",
   "source": [
    "## Run closed form solution using ``eqsig`` package\n",
    "\n",
    "The package runs the Nigam and Jennings (1968) algorithm to compute the SDOF response"
   ],
   "metadata": {
    "collapsed": false,
    "pycharm": {
     "name": "#%% md\n"
    }
   }
  },
  {
   "cell_type": "code",
   "execution_count": 24,
   "outputs": [],
   "source": [
    "periods = np.array([period])\n",
    "resp_u, resp_v, resp_a = sdof.response_series(motion=rec, dt=dt, periods=periods, xi=xi)\n"
   ],
   "metadata": {
    "collapsed": false,
    "pycharm": {
     "name": "#%%\n",
     "is_executing": false
    }
   }
  },
  {
   "cell_type": "markdown",
   "source": [
    "## Interpolate ``o3seespy`` output to same time step as input motion\n",
    "Validate the elastic solution against the closed form solution"
   ],
   "metadata": {
    "collapsed": false,
    "pycharm": {
     "name": "#%% md\n"
    }
   }
  },
  {
   "cell_type": "code",
   "execution_count": 25,
   "outputs": [],
   "source": [
    "time = np.arange(len(rec)) * dt\n",
    "\n",
    "acc_opensees_el = np.interp(time, outputs_el[\"time\"], outputs_el[\"rel_accel\"]) - rec\n",
    "acc_opensees_in = np.interp(time, outputs_in[\"time\"], outputs_in[\"rel_accel\"]) - rec\n",
    "ux_opensees_el = np.interp(time, outputs_el[\"time\"], outputs_el[\"rel_disp\"])\n",
    "diff_disp = np.sum(abs(ux_opensees_el - resp_u[0]))\n",
    "diff_acc = np.sum(abs(acc_opensees_el - resp_a[0]))\n",
    "assert diff_disp < 1.0e-2, diff_disp\n",
    "assert diff_acc < 5.0e-1, diff_acc\n"
   ],
   "metadata": {
    "collapsed": false,
    "pycharm": {
     "name": "#%%\n",
     "is_executing": false
    }
   }
  },
  {
   "cell_type": "markdown",
   "source": [
    "## Plot results"
   ],
   "metadata": {
    "collapsed": false,
    "pycharm": {
     "name": "#%% md\n"
    }
   }
  },
  {
   "cell_type": "code",
   "execution_count": 26,
   "outputs": [
    {
     "data": {
      "text/plain": "<Figure size 432x288 with 3 Axes>",
      "image/png": "[encoded data removed]"
     },
     "metadata": {
      "needs_background": "light"
     },
     "output_type": "display_data"
    }
   ],
   "source": [
    "bf, sps = plt.subplots(nrows=3, sharex='col')\n",
    "sps[0].plot(outputs_el[\"time\"], outputs_el[\"rel_disp\"], label='O3 Elastic', lw=0.7, c='b')\n",
    "sps[0].plot(outputs_in[\"time\"], outputs_in[\"rel_disp\"], label='O3 Inelastic', lw=0.7, c='r')\n",
    "sps[0].plot(time, resp_u[0], label='Closed form', lw=1.4, c='g', ls='--')\n",
    "sps[1].plot(outputs_el[\"time\"], outputs_el[\"rel_vel\"])\n",
    "sps[1].plot(time, resp_v[0], lw=1.4, c='g', ls='--')\n",
    "sps[2].plot(time, acc_opensees_el, c='b')\n",
    "sps[2].plot(time, resp_a[0], lw=1.4, c='g', ls='--')\n",
    "sps[2].plot(time, acc_opensees_in, c='r')\n",
    "sps[2].plot(time, rec, lw=0.7, c='k', label='Input', zorder=0)\n",
    "sps[2].axhline(f_yield, c=(0.4, 0.4, 0.4), label='$f_{yield}$', ls='--', lw=0.5, zorder=-1)\n",
    "sps[2].axhline(-f_yield, c=(0.4, 0.4, 0.4), ls='--', lw=0.5, zorder=-1)\n",
    "sps[0].set_ylabel('Disp. [m]')\n",
    "sps[1].set_ylabel('Vel. [m/s]')\n",
    "sps[2].set_ylabel('Accel. [m/s2]')\n",
    "sps[-1].set_xlabel('Time [s]')\n",
    "sps[-1].set_xlim([0, time[-1]])\n",
    "sps[0].legend(loc='upper right')\n",
    "sps[2].legend(loc='upper right')\n",
    "plt.show()"
   ],
   "metadata": {
    "collapsed": false,
    "pycharm": {
     "name": "#%%\n",
     "is_executing": false
    }
   }
  },
  {
   "cell_type": "code",
   "execution_count": 18,
   "outputs": [],
   "source": [
    "\n"
   ],
   "metadata": {
    "collapsed": false,
    "pycharm": {
     "name": "#%%\n",
     "is_executing": false
    }
   }
  }
 ],
 "metadata": {
  "kernelspec": {
   "display_name": "Python 3",
   "language": "python",
   "name": "python3"
  },
  "language_info": {
   "codemirror_mode": {
    "name": "ipython",
    "version": 2
   },
   "file_extension": ".py",
   "mimetype": "text/x-python",
   "name": "python",
   "nbconvert_exporter": "python",
   "pygments_lexer": "ipython2",
   "version": "2.7.6"
  },
  "pycharm": {
   "stem_cell": {
    "cell_type": "raw",
    "source": [],
    "metadata": {
     "collapsed": false
    }
   }
  }
 },
 "nbformat": 4,
 "nbformat_minor": 0
}